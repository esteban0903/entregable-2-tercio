{
 "cells": [
  {
   "cell_type": "markdown",
   "id": "366551f0-0cfb-4505-b22d-094523aba53b",
   "metadata": {},
   "source": [
    "# SIMULE EL PRIMER SISTEMA CUÁNTICO DESCRITO EN LA SECCIÓN 4.1.\n",
    "## El sistema consiste en una partícula confinada a un conjunto discreto de posiciones en una línea. El simulador debe permitir especificar el número de posiciones y un vector ket de estado asignando las amplitudes.\n",
    "### 1. El sistema debe calcular la probabilidad de encontrarlo en una posición en particular.\n",
    "\n"
   ]
  },
  {
   "cell_type": "code",
   "execution_count": 31,
   "id": "c97e3b10-08bc-4158-81bb-64d210e85dbd",
   "metadata": {},
   "outputs": [
    {
     "name": "stdout",
     "output_type": "stream",
     "text": [
      "Punto 1:\n",
      "La probabilidad en la posicion  0 es de: 0.0008183306055646482 %\n"
     ]
    }
   ],
   "source": [
    "import numpy as np\n",
    "from sys import stdin\n",
    "array=np.array([1,2,34,5,6])\n",
    "j=0\n",
    "numerador = np.abs(array[j])**2\n",
    "denominador = np.linalg.norm(array)**2\n",
    "if denominador == 0:\n",
    "    raise ValueError(\"Error por división por 0\")\n",
    "rta1= (numerador / denominador).item()\n",
    "print(\"Punto 1:\\nLa probabilidad en la posicion \",j,\"es de:\", rta1,\"%\")"
   ]
  },
  {
   "cell_type": "markdown",
   "id": "8545bf44-ee1c-4d2f-9324-3ce8d769f47e",
   "metadata": {},
   "source": [
    "### 2. El sistema si se le da otro vector Ket debe buscar la probabilidad de transitar del primer vector al segundo."
   ]
  },
  {
   "cell_type": "code",
   "execution_count": 43,
   "id": "fb393ba1-6056-4890-9c36-e6bad5340fa7",
   "metadata": {},
   "outputs": [
    {
     "name": "stdout",
     "output_type": "stream",
     "text": [
      "Punto 2:\n",
      "Primer vector: [1 2 3 4 5 6] \n",
      "Segundo vector [0 0 3 0 0 0]\n",
      "La probabilidad de transitar del primer vector al segundo es de: 0.0989010989010989 %\n"
     ]
    }
   ],
   "source": [
    "\n",
    "array_a=np.array([1,2,3,4,5,6])\n",
    "j=2\n",
    "\n",
    "array_b = np.array([(0 if i != j else array_a[i].item()) for i in range(len(array_a))])\n",
    "print(\"Punto 2:\\nPrimer vector:\",array_a,\"\\nSegundo vector\",array_b)\n",
    "array_a=array_a/np.linalg.norm(array_a)\n",
    "array_b=array_b/np.linalg.norm(array_b)\n",
    "product_point= np.vdot(array_b, array_a)\n",
    "probability = (np.abs(product_point))**2\n",
    "rta2= probability.item()\n",
    "print(\"La probabilidad de transitar del primer vector al segundo es de:\", rta2,\"%\")"
   ]
  },
  {
   "cell_type": "code",
   "execution_count": null,
   "id": "1e61f3df-7008-41d6-887d-80ba9e806c17",
   "metadata": {},
   "outputs": [],
   "source": []
  }
 ],
 "metadata": {
  "kernelspec": {
   "display_name": "Python 3 (ipykernel)",
   "language": "python",
   "name": "python3"
  },
  "language_info": {
   "codemirror_mode": {
    "name": "ipython",
    "version": 3
   },
   "file_extension": ".py",
   "mimetype": "text/x-python",
   "name": "python",
   "nbconvert_exporter": "python",
   "pygments_lexer": "ipython3",
   "version": "3.11.5"
  }
 },
 "nbformat": 4,
 "nbformat_minor": 5
}
